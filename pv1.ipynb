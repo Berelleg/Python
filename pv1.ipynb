{
 "cells": [
  {
   "cell_type": "markdown",
   "id": "94093b36-5c82-4c4e-a1e5-46cad9822c33",
   "metadata": {
    "tags": []
   },
   "source": [
    "# Project : The readmission of diabetic patients"
   ]
  },
  {
   "cell_type": "markdown",
   "id": "6615d4d6-10ff-402c-9e16-84614dcb0975",
   "metadata": {},
   "source": [
    "**Part 1:**\n",
    "\n",
    "This code begins by importing necessary libraries for data analysis and machine learning. It then loads a dataset ('diabetic_data.csv'), prints basic information about the dataset, displays the first five rows, and provides an overview of column data types. The code identifies and removes columns with overwhelmingly dominant values.\n",
    "\n",
    "It addresses issues related to duplicate entries, replacing missing values, and handling specific columns like 'gender'. The data cleaning process involves removing unnecessary columns, handling missing values, and transforming the 'readmitted' column into a binary variable. It also replaces age intervals with corresponding numeric values.\n",
    "\n",
    "The final DataFrame is prepared for further analysis, containing relevant features and a modified target variable. It addresses issues such as missing data, duplicate entries, and ensures the dataset is suitable for subsequent machine learning tasks."
   ]
  },
  {
   "cell_type": "code",
   "execution_count": 5,
   "id": "33e135ff-4bfd-42cc-bd99-573f983a5cb0",
   "metadata": {},
   "outputs": [],
   "source": [
    "# Import necessary libraries\n",
    "import matplotlib.pyplot as plt\n",
    "import numpy as np\n",
    "import pandas as pd\n",
    "import seaborn as sns\n",
    "\n",
    "#from imblearn.over_sampling import SMOTE\n",
    "from collections import Counter\n",
    "\n",
    "from sklearn.preprocessing import StandardScaler,LabelEncoder\n",
    "from sklearn.model_selection import train_test_split,cross_val_score,GridSearchCV,StratifiedKFold\n",
    "\n",
    "from sklearn.linear_model import LogisticRegression\n",
    "from sklearn.ensemble import RandomForestClassifier\n",
    "from sklearn.ensemble import AdaBoostClassifier\n",
    "from sklearn.tree import DecisionTreeClassifier\n",
    "from sklearn.neighbors import KNeighborsClassifier\n",
    "from sklearn.discriminant_analysis import LinearDiscriminantAnalysis\n",
    "from sklearn.naive_bayes import GaussianNB\n",
    "from sklearn.neural_network import MLPClassifier\n",
    "#from xgboost import XGBClassifier\n",
    "\n",
    "import sklearn.metrics\n",
    "from sklearn.metrics import roc_auc_score, accuracy_score, precision_score, recall_score,f1_score,r2_score,mean_absolute_error\n",
    "\n",
    "import warnings\n",
    "warnings.filterwarnings('ignore')"
   ]
  },
  {
   "cell_type": "code",
   "execution_count": 5,
   "id": "b3aeaa14-ec15-4545-94eb-3c87c7be1d29",
   "metadata": {},
   "outputs": [
    {
     "name": "stdout",
     "output_type": "stream",
     "text": [
      "There are 101766 rows and 50 columns\n"
     ]
    }
   ],
   "source": [
    "# Load the dataset and print Row and colums\n",
    "df= pd.read_csv('diabetic_data.csv', delimiter=',')\n",
    "nRow, nCol = df.shape\n",
    "print(f'There are {nRow} rows and {nCol} columns')"
   ]
  },
  {
   "cell_type": "code",
   "execution_count": 6,
   "id": "96ca7e2d-80ed-4db4-a809-ee119fdd0429",
   "metadata": {},
   "outputs": [
    {
     "data": {
      "text/html": [
       "<div>\n",
       "<style scoped>\n",
       "    .dataframe tbody tr th:only-of-type {\n",
       "        vertical-align: middle;\n",
       "    }\n",
       "\n",
       "    .dataframe tbody tr th {\n",
       "        vertical-align: top;\n",
       "    }\n",
       "\n",
       "    .dataframe thead th {\n",
       "        text-align: right;\n",
       "    }\n",
       "</style>\n",
       "<table border=\"1\" class=\"dataframe\">\n",
       "  <thead>\n",
       "    <tr style=\"text-align: right;\">\n",
       "      <th></th>\n",
       "      <th>encounter_id</th>\n",
       "      <th>patient_nbr</th>\n",
       "      <th>race</th>\n",
       "      <th>gender</th>\n",
       "      <th>age</th>\n",
       "      <th>weight</th>\n",
       "      <th>admission_type_id</th>\n",
       "      <th>discharge_disposition_id</th>\n",
       "      <th>admission_source_id</th>\n",
       "      <th>time_in_hospital</th>\n",
       "      <th>...</th>\n",
       "      <th>citoglipton</th>\n",
       "      <th>insulin</th>\n",
       "      <th>glyburide-metformin</th>\n",
       "      <th>glipizide-metformin</th>\n",
       "      <th>glimepiride-pioglitazone</th>\n",
       "      <th>metformin-rosiglitazone</th>\n",
       "      <th>metformin-pioglitazone</th>\n",
       "      <th>change</th>\n",
       "      <th>diabetesMed</th>\n",
       "      <th>readmitted</th>\n",
       "    </tr>\n",
       "  </thead>\n",
       "  <tbody>\n",
       "    <tr>\n",
       "      <th>0</th>\n",
       "      <td>2278392</td>\n",
       "      <td>8222157</td>\n",
       "      <td>Caucasian</td>\n",
       "      <td>Female</td>\n",
       "      <td>[0-10)</td>\n",
       "      <td>?</td>\n",
       "      <td>6</td>\n",
       "      <td>25</td>\n",
       "      <td>1</td>\n",
       "      <td>1</td>\n",
       "      <td>...</td>\n",
       "      <td>No</td>\n",
       "      <td>No</td>\n",
       "      <td>No</td>\n",
       "      <td>No</td>\n",
       "      <td>No</td>\n",
       "      <td>No</td>\n",
       "      <td>No</td>\n",
       "      <td>No</td>\n",
       "      <td>No</td>\n",
       "      <td>NO</td>\n",
       "    </tr>\n",
       "    <tr>\n",
       "      <th>1</th>\n",
       "      <td>149190</td>\n",
       "      <td>55629189</td>\n",
       "      <td>Caucasian</td>\n",
       "      <td>Female</td>\n",
       "      <td>[10-20)</td>\n",
       "      <td>?</td>\n",
       "      <td>1</td>\n",
       "      <td>1</td>\n",
       "      <td>7</td>\n",
       "      <td>3</td>\n",
       "      <td>...</td>\n",
       "      <td>No</td>\n",
       "      <td>Up</td>\n",
       "      <td>No</td>\n",
       "      <td>No</td>\n",
       "      <td>No</td>\n",
       "      <td>No</td>\n",
       "      <td>No</td>\n",
       "      <td>Ch</td>\n",
       "      <td>Yes</td>\n",
       "      <td>&gt;30</td>\n",
       "    </tr>\n",
       "    <tr>\n",
       "      <th>2</th>\n",
       "      <td>64410</td>\n",
       "      <td>86047875</td>\n",
       "      <td>AfricanAmerican</td>\n",
       "      <td>Female</td>\n",
       "      <td>[20-30)</td>\n",
       "      <td>?</td>\n",
       "      <td>1</td>\n",
       "      <td>1</td>\n",
       "      <td>7</td>\n",
       "      <td>2</td>\n",
       "      <td>...</td>\n",
       "      <td>No</td>\n",
       "      <td>No</td>\n",
       "      <td>No</td>\n",
       "      <td>No</td>\n",
       "      <td>No</td>\n",
       "      <td>No</td>\n",
       "      <td>No</td>\n",
       "      <td>No</td>\n",
       "      <td>Yes</td>\n",
       "      <td>NO</td>\n",
       "    </tr>\n",
       "    <tr>\n",
       "      <th>3</th>\n",
       "      <td>500364</td>\n",
       "      <td>82442376</td>\n",
       "      <td>Caucasian</td>\n",
       "      <td>Male</td>\n",
       "      <td>[30-40)</td>\n",
       "      <td>?</td>\n",
       "      <td>1</td>\n",
       "      <td>1</td>\n",
       "      <td>7</td>\n",
       "      <td>2</td>\n",
       "      <td>...</td>\n",
       "      <td>No</td>\n",
       "      <td>Up</td>\n",
       "      <td>No</td>\n",
       "      <td>No</td>\n",
       "      <td>No</td>\n",
       "      <td>No</td>\n",
       "      <td>No</td>\n",
       "      <td>Ch</td>\n",
       "      <td>Yes</td>\n",
       "      <td>NO</td>\n",
       "    </tr>\n",
       "    <tr>\n",
       "      <th>4</th>\n",
       "      <td>16680</td>\n",
       "      <td>42519267</td>\n",
       "      <td>Caucasian</td>\n",
       "      <td>Male</td>\n",
       "      <td>[40-50)</td>\n",
       "      <td>?</td>\n",
       "      <td>1</td>\n",
       "      <td>1</td>\n",
       "      <td>7</td>\n",
       "      <td>1</td>\n",
       "      <td>...</td>\n",
       "      <td>No</td>\n",
       "      <td>Steady</td>\n",
       "      <td>No</td>\n",
       "      <td>No</td>\n",
       "      <td>No</td>\n",
       "      <td>No</td>\n",
       "      <td>No</td>\n",
       "      <td>Ch</td>\n",
       "      <td>Yes</td>\n",
       "      <td>NO</td>\n",
       "    </tr>\n",
       "  </tbody>\n",
       "</table>\n",
       "<p>5 rows × 50 columns</p>\n",
       "</div>"
      ],
      "text/plain": [
       "   encounter_id  patient_nbr             race  gender      age weight  \\\n",
       "0       2278392      8222157        Caucasian  Female   [0-10)      ?   \n",
       "1        149190     55629189        Caucasian  Female  [10-20)      ?   \n",
       "2         64410     86047875  AfricanAmerican  Female  [20-30)      ?   \n",
       "3        500364     82442376        Caucasian    Male  [30-40)      ?   \n",
       "4         16680     42519267        Caucasian    Male  [40-50)      ?   \n",
       "\n",
       "   admission_type_id  discharge_disposition_id  admission_source_id  \\\n",
       "0                  6                        25                    1   \n",
       "1                  1                         1                    7   \n",
       "2                  1                         1                    7   \n",
       "3                  1                         1                    7   \n",
       "4                  1                         1                    7   \n",
       "\n",
       "   time_in_hospital  ... citoglipton insulin  glyburide-metformin  \\\n",
       "0                 1  ...          No      No                   No   \n",
       "1                 3  ...          No      Up                   No   \n",
       "2                 2  ...          No      No                   No   \n",
       "3                 2  ...          No      Up                   No   \n",
       "4                 1  ...          No  Steady                   No   \n",
       "\n",
       "   glipizide-metformin  glimepiride-pioglitazone  metformin-rosiglitazone  \\\n",
       "0                   No                        No                       No   \n",
       "1                   No                        No                       No   \n",
       "2                   No                        No                       No   \n",
       "3                   No                        No                       No   \n",
       "4                   No                        No                       No   \n",
       "\n",
       "   metformin-pioglitazone  change diabetesMed readmitted  \n",
       "0                      No      No          No         NO  \n",
       "1                      No      Ch         Yes        >30  \n",
       "2                      No      No         Yes         NO  \n",
       "3                      No      Ch         Yes         NO  \n",
       "4                      No      Ch         Yes         NO  \n",
       "\n",
       "[5 rows x 50 columns]"
      ]
     },
     "execution_count": 6,
     "metadata": {},
     "output_type": "execute_result"
    }
   ],
   "source": [
    "#displaying first 5 rows of data\n",
    "df.head()"
   ]
  },
  {
   "cell_type": "code",
   "execution_count": 7,
   "id": "f3348608-23ff-4eff-9ac0-b5a52c02fd99",
   "metadata": {},
   "outputs": [
    {
     "name": "stdout",
     "output_type": "stream",
     "text": [
      "<class 'pandas.core.frame.DataFrame'>\n",
      "RangeIndex: 101766 entries, 0 to 101765\n",
      "Data columns (total 50 columns):\n",
      " #   Column                    Non-Null Count   Dtype \n",
      "---  ------                    --------------   ----- \n",
      " 0   encounter_id              101766 non-null  int64 \n",
      " 1   patient_nbr               101766 non-null  int64 \n",
      " 2   race                      101766 non-null  object\n",
      " 3   gender                    101766 non-null  object\n",
      " 4   age                       101766 non-null  object\n",
      " 5   weight                    101766 non-null  object\n",
      " 6   admission_type_id         101766 non-null  int64 \n",
      " 7   discharge_disposition_id  101766 non-null  int64 \n",
      " 8   admission_source_id       101766 non-null  int64 \n",
      " 9   time_in_hospital          101766 non-null  int64 \n",
      " 10  payer_code                101766 non-null  object\n",
      " 11  medical_specialty         101766 non-null  object\n",
      " 12  num_lab_procedures        101766 non-null  int64 \n",
      " 13  num_procedures            101766 non-null  int64 \n",
      " 14  num_medications           101766 non-null  int64 \n",
      " 15  number_outpatient         101766 non-null  int64 \n",
      " 16  number_emergency          101766 non-null  int64 \n",
      " 17  number_inpatient          101766 non-null  int64 \n",
      " 18  diag_1                    101766 non-null  object\n",
      " 19  diag_2                    101766 non-null  object\n",
      " 20  diag_3                    101766 non-null  object\n",
      " 21  number_diagnoses          101766 non-null  int64 \n",
      " 22  max_glu_serum             101766 non-null  object\n",
      " 23  A1Cresult                 101766 non-null  object\n",
      " 24  metformin                 101766 non-null  object\n",
      " 25  repaglinide               101766 non-null  object\n",
      " 26  nateglinide               101766 non-null  object\n",
      " 27  chlorpropamide            101766 non-null  object\n",
      " 28  glimepiride               101766 non-null  object\n",
      " 29  acetohexamide             101766 non-null  object\n",
      " 30  glipizide                 101766 non-null  object\n",
      " 31  glyburide                 101766 non-null  object\n",
      " 32  tolbutamide               101766 non-null  object\n",
      " 33  pioglitazone              101766 non-null  object\n",
      " 34  rosiglitazone             101766 non-null  object\n",
      " 35  acarbose                  101766 non-null  object\n",
      " 36  miglitol                  101766 non-null  object\n",
      " 37  troglitazone              101766 non-null  object\n",
      " 38  tolazamide                101766 non-null  object\n",
      " 39  examide                   101766 non-null  object\n",
      " 40  citoglipton               101766 non-null  object\n",
      " 41  insulin                   101766 non-null  object\n",
      " 42  glyburide-metformin       101766 non-null  object\n",
      " 43  glipizide-metformin       101766 non-null  object\n",
      " 44  glimepiride-pioglitazone  101766 non-null  object\n",
      " 45  metformin-rosiglitazone   101766 non-null  object\n",
      " 46  metformin-pioglitazone    101766 non-null  object\n",
      " 47  change                    101766 non-null  object\n",
      " 48  diabetesMed               101766 non-null  object\n",
      " 49  readmitted                101766 non-null  object\n",
      "dtypes: int64(13), object(37)\n",
      "memory usage: 38.8+ MB\n"
     ]
    }
   ],
   "source": [
    "# dowload all the informations\n",
    "df.info()"
   ]
  },
  {
   "cell_type": "code",
   "execution_count": 8,
   "id": "b0c4bf0c-e752-4673-bfdf-f3a9a6390b77",
   "metadata": {},
   "outputs": [
    {
     "data": {
      "text/plain": [
       "encounter_id                 int64\n",
       "patient_nbr                  int64\n",
       "race                        object\n",
       "gender                      object\n",
       "age                         object\n",
       "weight                      object\n",
       "admission_type_id            int64\n",
       "discharge_disposition_id     int64\n",
       "admission_source_id          int64\n",
       "time_in_hospital             int64\n",
       "payer_code                  object\n",
       "medical_specialty           object\n",
       "num_lab_procedures           int64\n",
       "num_procedures               int64\n",
       "num_medications              int64\n",
       "number_outpatient            int64\n",
       "number_emergency             int64\n",
       "number_inpatient             int64\n",
       "diag_1                      object\n",
       "diag_2                      object\n",
       "diag_3                      object\n",
       "number_diagnoses             int64\n",
       "max_glu_serum               object\n",
       "A1Cresult                   object\n",
       "metformin                   object\n",
       "repaglinide                 object\n",
       "nateglinide                 object\n",
       "chlorpropamide              object\n",
       "glimepiride                 object\n",
       "acetohexamide               object\n",
       "glipizide                   object\n",
       "glyburide                   object\n",
       "tolbutamide                 object\n",
       "pioglitazone                object\n",
       "rosiglitazone               object\n",
       "acarbose                    object\n",
       "miglitol                    object\n",
       "troglitazone                object\n",
       "tolazamide                  object\n",
       "examide                     object\n",
       "citoglipton                 object\n",
       "insulin                     object\n",
       "glyburide-metformin         object\n",
       "glipizide-metformin         object\n",
       "glimepiride-pioglitazone    object\n",
       "metformin-rosiglitazone     object\n",
       "metformin-pioglitazone      object\n",
       "change                      object\n",
       "diabetesMed                 object\n",
       "readmitted                  object\n",
       "dtype: object"
      ]
     },
     "execution_count": 8,
     "metadata": {},
     "output_type": "execute_result"
    }
   ],
   "source": [
    "# define the type of the variable\n",
    "df.dtypes"
   ]
  },
  {
   "cell_type": "code",
   "execution_count": 11,
   "id": "3588066c-00b3-4621-97b1-fc7288bb4437",
   "metadata": {},
   "outputs": [
    {
     "name": "stdout",
     "output_type": "stream",
     "text": [
      "No        101765\n",
      "Steady         1\n",
      "Name: acetohexamide, dtype: int64\n",
      "No        101763\n",
      "Steady         3\n",
      "Name: troglitazone, dtype: int64\n",
      "No    101766\n",
      "Name: examide, dtype: int64\n",
      "No    101766\n",
      "Name: citoglipton, dtype: int64\n",
      "No        101753\n",
      "Steady        13\n",
      "Name: glipizide-metformin, dtype: int64\n",
      "No        101765\n",
      "Steady         1\n",
      "Name: glimepiride-pioglitazone, dtype: int64\n",
      "No        101764\n",
      "Steady         2\n",
      "Name: metformin-rosiglitazone, dtype: int64\n",
      "No        101765\n",
      "Steady         1\n",
      "Name: metformin-pioglitazone, dtype: int64\n"
     ]
    }
   ],
   "source": [
    "for i in df.columns:\n",
    "    if np.array(df[i].value_counts())[0]>101750:\n",
    "        print(df[i].value_counts())"
   ]
  },
  {
   "cell_type": "code",
   "execution_count": 9,
   "id": "c7bb7689-cde4-4d08-a4e5-44593ef798cb",
   "metadata": {},
   "outputs": [
    {
     "name": "stdout",
     "output_type": "stream",
     "text": [
      "Total data =  101766\n",
      "Unique entries =  71518\n",
      "Length after removing Duplicates: 71518\n"
     ]
    }
   ],
   "source": [
    "#cleaning the data to no longer have a duplicate\n",
    "print('Total data = ', len(df))\n",
    "print('Unique entries = ', len(np.unique(df['patient_nbr'])))\n",
    "df.drop_duplicates(['patient_nbr'], keep = 'first', inplace = True)\n",
    "print('Length after removing Duplicates:', len(df))"
   ]
  },
  {
   "cell_type": "code",
   "execution_count": 10,
   "id": "0474bdca-55e0-421b-b4c6-b1dc94105b54",
   "metadata": {},
   "outputs": [],
   "source": [
    "#delete the duplicate variable in the dataset\n",
    "df.drop(['glimepiride-pioglitazone','metformin-pioglitazone','patient_nbr','encounter_id','acetohexamide','troglitazone','examide','citoglipton'],axis=1,inplace=True)"
   ]
  },
  {
   "cell_type": "code",
   "execution_count": 11,
   "id": "83a57259-b1e3-435b-92b2-f53d79fecaf2",
   "metadata": {},
   "outputs": [],
   "source": [
    "#this code replaces all occurrences of the string '?' by NaN values in your DataFrame, which is often used to deal with missing values in data.\n",
    "df.replace('?',np.nan,inplace=True)"
   ]
  },
  {
   "cell_type": "code",
   "execution_count": 12,
   "id": "0836245c-fd06-44a6-9afa-65007f317c85",
   "metadata": {},
   "outputs": [
    {
     "name": "stdout",
     "output_type": "stream",
     "text": [
      "race 2.7237898151514304\n",
      "weight 96.0107944853044\n",
      "payer_code 43.4058558684527\n",
      "medical_specialty 48.20744427976174\n",
      "diag_1 0.01538074330937666\n",
      "diag_2 0.41108532117788527\n",
      "diag_3 1.7128555049078553\n"
     ]
    }
   ],
   "source": [
    "#In summary, this code helps identify columns in a DataFrame that contain at least one missing value \n",
    "#and displays the percentage of missing values for each of these columns.\n",
    "for i in df.columns:\n",
    "    if df[i].isna().sum()>0:\n",
    "        print(i,df[i].isna().sum()*100/len(df))"
   ]
  },
  {
   "cell_type": "code",
   "execution_count": 13,
   "id": "101018bd-0614-46cf-a9a4-dfacfdad3ecb",
   "metadata": {},
   "outputs": [],
   "source": [
    "# we will delete data when the percentage of missing data is too high\n",
    "df.drop(['payer_code','medical_specialty','weight'],axis=1,inplace=True)"
   ]
  },
  {
   "cell_type": "code",
   "execution_count": 14,
   "id": "fa7f2665-0a19-4843-b46f-137e671ae73d",
   "metadata": {},
   "outputs": [],
   "source": [
    "#This code removes all rows in the DataFrame df that contain at least one missing value (NaN) \n",
    "#and modifies the original DataFrame accordingly.\n",
    "df.dropna(inplace=True)"
   ]
  },
  {
   "cell_type": "code",
   "execution_count": 15,
   "id": "dde75764-eae1-4f99-a614-c8473111efe6",
   "metadata": {},
   "outputs": [
    {
     "data": {
      "text/plain": [
       "0"
      ]
     },
     "execution_count": 15,
     "metadata": {},
     "output_type": "execute_result"
    }
   ],
   "source": [
    "#This line of code counts the number of missing values in the 'race' column of the DataFrame df.\n",
    "#The number being equal to 0 this variable is interesting\n",
    "df['race'].isna().sum()"
   ]
  },
  {
   "cell_type": "code",
   "execution_count": 16,
   "id": "9bf13679-39fe-46f3-af36-452276ac7cfd",
   "metadata": {},
   "outputs": [],
   "source": [
    "#This line of code modifies the DataFrame df keeping only the rows where the value in the 'gender' column is not equal to 'Unknown/Invalid'.\n",
    "df=df[df.gender!='Unknown/Invalid']"
   ]
  },
  {
   "cell_type": "code",
   "execution_count": 17,
   "id": "a9d29c3b-ec1d-4967-91dd-f1dd7f39f231",
   "metadata": {},
   "outputs": [
    {
     "data": {
      "text/plain": [
       "Female    36440\n",
       "Male      31917\n",
       "Name: gender, dtype: int64"
      ]
     },
     "execution_count": 17,
     "metadata": {},
     "output_type": "execute_result"
    }
   ],
   "source": [
    "# number of women and men in readmission\n",
    "df['gender'].value_counts()"
   ]
  },
  {
   "cell_type": "code",
   "execution_count": 18,
   "id": "091e586a-8ac0-424c-8869-c9495666b439",
   "metadata": {},
   "outputs": [
    {
     "data": {
      "text/plain": [
       "NO     40728\n",
       ">30    21539\n",
       "<30     6090\n",
       "Name: readmitted, dtype: int64"
      ]
     },
     "execution_count": 18,
     "metadata": {},
     "output_type": "execute_result"
    }
   ],
   "source": [
    "#number of people readmitted more than 30 and less than 30\n",
    "df.readmitted.value_counts()"
   ]
  },
  {
   "cell_type": "code",
   "execution_count": 19,
   "id": "392d9a42-bf2a-4d55-8568-2013e164b7ed",
   "metadata": {},
   "outputs": [],
   "source": [
    "#This line of code converts the values of the 'readmitted' column in the DataFrame df. \n",
    "#If a value is equal to '<30', it is replaced by 1; otherwise, it is replaced by 0.\n",
    "df.readmitted = [1 if each=='<30' else 0 for each in df.readmitted]"
   ]
  },
  {
   "cell_type": "code",
   "execution_count": 20,
   "id": "fc0d296f-7d22-4d69-857d-200ff0ae7516",
   "metadata": {},
   "outputs": [],
   "source": [
    "#this code replaces the age intervals in the 'age' column of the DataFrame df \n",
    "#with specific numeric values defined in the replaceDict dictionary\n",
    "replaceDict = { '[0-10)' : 5,\n",
    "                '[10-20)' : 15, \n",
    "                '[20-30)' : 25, \n",
    "                '[30-40)' : 35, \n",
    "                '[40-50)' : 45, \n",
    "                '[50-60)' : 55,\n",
    "                '[60-70)' : 65, \n",
    "                '[70-80)' : 75,\n",
    "                '[80-90)' : 85,\n",
    "                '[90-100)' : 95}\n",
    "\n",
    "df['age'] = df['age'].apply(lambda x : replaceDict[x])"
   ]
  },
  {
   "cell_type": "code",
   "execution_count": 21,
   "id": "101ab314-7ca4-4b69-ac24-eff4c9ce1d7d",
   "metadata": {},
   "outputs": [
    {
     "data": {
      "text/plain": [
       "1         15\n",
       "2         25\n",
       "3         35\n",
       "4         45\n",
       "5         55\n",
       "          ..\n",
       "101754    75\n",
       "101755    45\n",
       "101756    65\n",
       "101758    85\n",
       "101765    75\n",
       "Name: age, Length: 68357, dtype: int64"
      ]
     },
     "execution_count": 21,
     "metadata": {},
     "output_type": "execute_result"
    }
   ],
   "source": [
    "#gives the ages of all patients\n",
    "df['age']"
   ]
  },
  {
   "cell_type": "markdown",
   "id": "eda5ed88-33c4-4a41-b130-afc0fb9f8dba",
   "metadata": {},
   "source": [
    "This part of this code begins by creating a copy of the original DataFrame, 'data'. Subsequently, it modifies specific columns such as 'discharge_disposition_id', 'admission_type_id', 'admission_source_id', and various medication columns based on predefined conditions. It also categorizes values in the 'diag_1', 'diag_2', and 'diag_3' columns into broader categories.\n",
    "\n",
    "To further enhance the dataset, LabelEncoder is applied to transform categorical columns into numeric ones in both the original and copied DataFrames. Specifically, columns such as 'race', 'gender', 'diag_1', 'diag_2', and 'diag_3' are processed. The code concludes by checking for non-numeric entries in the copied DataFrame.\n",
    "\n",
    "This sequence of operations is crucial for preparing the dataset for subsequent analysis or machine learning applications, ensuring consistency, and facilitating the inclusion of meaningful features in the modeling process."
   ]
  },
  {
   "cell_type": "code",
   "execution_count": 1,
   "id": "172b7b50-9087-475a-ac9f-ade2c98d6b10",
   "metadata": {},
   "outputs": [
    {
     "ename": "NameError",
     "evalue": "name 'df' is not defined",
     "output_type": "error",
     "traceback": [
      "\u001b[1;31m---------------------------------------------------------------------------\u001b[0m",
      "\u001b[1;31mNameError\u001b[0m                                 Traceback (most recent call last)",
      "\u001b[1;32m~\\AppData\\Local\\Temp\\ipykernel_8312\\2287838642.py\u001b[0m in \u001b[0;36m<module>\u001b[1;34m\u001b[0m\n\u001b[0;32m      1\u001b[0m \u001b[1;31m# Create a copy of the original DataFrame\u001b[0m\u001b[1;33m\u001b[0m\u001b[1;33m\u001b[0m\u001b[0m\n\u001b[1;32m----> 2\u001b[1;33m \u001b[0mdata\u001b[0m\u001b[1;33m=\u001b[0m\u001b[0mdf\u001b[0m\u001b[1;33m.\u001b[0m\u001b[0mcopy\u001b[0m\u001b[1;33m(\u001b[0m\u001b[1;33m)\u001b[0m\u001b[1;33m\u001b[0m\u001b[1;33m\u001b[0m\u001b[0m\n\u001b[0m",
      "\u001b[1;31mNameError\u001b[0m: name 'df' is not defined"
     ]
    }
   ],
   "source": [
    "# Create a copy of the original DataFrame\n",
    "data=df.copy()"
   ]
  },
  {
   "cell_type": "code",
   "execution_count": 3,
   "id": "ce23e686-3fd2-4f60-91f0-a61d4d8243d4",
   "metadata": {},
   "outputs": [
    {
     "ename": "NameError",
     "evalue": "name 'data' is not defined",
     "output_type": "error",
     "traceback": [
      "\u001b[1;31m---------------------------------------------------------------------------\u001b[0m",
      "\u001b[1;31mNameError\u001b[0m                                 Traceback (most recent call last)",
      "\u001b[1;32m~\\AppData\\Local\\Temp\\ipykernel_8312\\3784399248.py\u001b[0m in \u001b[0;36m<module>\u001b[1;34m\u001b[0m\n\u001b[1;32m----> 1\u001b[1;33m data['discharge_disposition_id'] = data['discharge_disposition_id'].apply(lambda x : 1 if int(x) in [6, 8, 9, 13] \n\u001b[0m\u001b[0;32m      2\u001b[0m                                                                            else ( 2 if int(x) in [3, 4, 5, 14, 22, 23, 24]\n\u001b[0;32m      3\u001b[0m                                                                            else ( 10 if int(x) in [12, 15, 16, 17]\n\u001b[0;32m      4\u001b[0m                                                                            else ( 11 if int(x) in [19, 20, 21]\n\u001b[0;32m      5\u001b[0m                                                                            else ( 18 if int(x) in [25, 26] \n",
      "\u001b[1;31mNameError\u001b[0m: name 'data' is not defined"
     ]
    }
   ],
   "source": [
    "# Modify 'discharge_disposition_id' based on specific conditions\n",
    "data['discharge_disposition_id'] = data['discharge_disposition_id'].apply(lambda x : 1 if int(x) in [6, 8, 9, 13] \n",
    "                                                                           else ( 2 if int(x) in [3, 4, 5, 14, 22, 23, 24]\n",
    "                                                                           else ( 10 if int(x) in [12, 15, 16, 17]\n",
    "                                                                           else ( 11 if int(x) in [19, 20, 21]\n",
    "                                                                           else ( 18 if int(x) in [25, 26] \n",
    "                                                                           else int(x) )))))\n",
    "# Remove rows with specific 'discharge_disposition_id' values\n",
    "data = data[~data.discharge_disposition_id.isin([11,13,14,19,20,21])]\n",
    "\n",
    "# Modify values in 'admission_type_id' based on specific conditions\n",
    "data['admission_type_id'] = data['admission_type_id'].apply(lambda x : 1 if int(x) in [2, 7]\n",
    "                                                            else ( 5 if int(x) in [6, 8]\n",
    "                                                            else int(x) ))\n",
    "\n",
    "# Modify values in 'admission_source_id' based on specific conditions\n",
    "data['admission_source_id'] = data['admission_source_id'].apply(lambda x : 1 if int(x) in [2, 3]\n",
    "                                                            else ( 4 if int(x) in [5, 6, 10, 22, 25]\n",
    "                                                            else ( 9 if int(x) in [15, 17, 20, 21]\n",
    "                                                            else ( 11 if int(x) in [13, 14]\n",
    "                                                            else int(x) ))))\n",
    "\n",
    "# Modify values in 'admission_source_id' based on specific conditions\n",
    "for col in [\"metformin\", \"repaglinide\", \"nateglinide\", \"chlorpropamide\", \"glimepiride\", \"glipizide\", \"glyburide\", \"tolbutamide\", \"pioglitazone\", \"rosiglitazone\", \"acarbose\", \"miglitol\", \"tolazamide\", \"insulin\", \"glyburide-metformin\", \"glipizide-metformin\", \"metformin-rosiglitazone\"]:\n",
    "    data[col] = data[col].apply(lambda x : 10 if x == 'Up' \n",
    "                                              else ( -10 if x == 'Down'                                                          \n",
    "                                              else ( 0 if x == 'Steady'\n",
    "                                              else  -20)))\n",
    "\n",
    "\n",
    "# Modify values in the 'change' column \n",
    "data['change'] = data['change'].apply(lambda x : 1 if x == 'Ch'\n",
    "                                                 else -1)\n",
    "\n",
    "# Modify values in the 'diabetesMed' column\n",
    "data['diabetesMed'] = data['diabetesMed'].apply(lambda x : -1 if x == 'No'\n",
    "                                                else 1)\n",
    "\n",
    "# Modify values in the 'max_glu_serum' column based on specific conditions\n",
    "data['max_glu_serum'] = data['max_glu_serum'].apply(lambda x : 200 if x == '>200' \n",
    "                                                            else ( 300 if x == '>300'                                                          \n",
    "                                                            else ( 100 if x == 'Norm'\n",
    "                                                            else  0)))\n",
    "\n",
    "# Modify values in the 'A1Cresult' column based on specific conditions\n",
    "data['A1Cresult'] = data['A1Cresult'].apply(lambda x : 7 if x == '>7' \n",
    "                                                         else (8 if  x == '>8'                                                        \n",
    "                                                         else ( 5 if x == 'Norm'\n",
    "                                                         else  0)))"
   ]
  },
  {
   "cell_type": "code",
   "execution_count": 24,
   "id": "5e2b0650-b362-4bc1-ba79-0e3df1868a6a",
   "metadata": {},
   "outputs": [],
   "source": [
    "# Group values in the 'diag_1', 'diag_2', and 'diag_3' columns into broader categories\n",
    "data['diag_1'] = data['diag_1'].apply(lambda x : 'other' if (str(x).find('V') != -1 or str(x).find('E') != -1)  \n",
    "                                        else ('circulatory' if int(float(x)) in range(390, 460) or int(float(x)) == 785\n",
    "                                        else     ('respiratory' if int(float(x)) in range(460, 520) or int(float(x)) == 786\n",
    "                                        else     ('digestive'   if int(float(x)) in range(520, 580) or int(float(x)) == 787\n",
    "                                        else     ('diabetes'    if int(float(x)) == 250\n",
    "                                        else     ('injury'      if int(float(x)) in range(800, 1000)\n",
    "                                        else ('musculoskeletal' if int(float(x)) in range(710, 740)\n",
    "                                        else ('genitourinary'   if int(float(x)) in range(580, 630) or int(float(x)) == 788\n",
    "                                        else ('neoplasms'       if int(float(x)) in range(140, 240)\n",
    "                                        else ('pregnecy'        if int(float(x)) in range(630, 680)\n",
    "                                        else 'other'))))))))))\n",
    "\n",
    "\n",
    "data['diag_2'] = data['diag_2'].apply(lambda x : 'other' if (str(x).find('V') != -1 or str(x).find('E') != -1)  \n",
    "                                        else ('circulatory' if int(float(x)) in range(390, 460) or int(float(x)) == 785\n",
    "                                        else     ('respiratory' if int(float(x)) in range(460, 520) or int(float(x)) == 786\n",
    "                                        else     ('digestive'   if int(float(x)) in range(520, 580) or int(float(x)) == 787\n",
    "                                        else     ('diabetes'    if int(float(x)) == 250\n",
    "                                        else     ('injury'      if int(float(x)) in range(800, 1000)\n",
    "                                        else ('musculoskeletal' if int(float(x)) in range(710, 740)\n",
    "                                        else ('genitourinary'   if int(float(x)) in range(580, 630) or int(float(x)) == 788\n",
    "                                        else ('neoplasms'       if int(float(x)) in range(140, 240)\n",
    "                                        else ('pregnecy'        if int(float(x)) in range(630, 680)\n",
    "                                        else 'other'))))))))))\n",
    "\n",
    "data['diag_3'] = data['diag_3'].apply(lambda x : 'other' if (str(x).find('V') != -1 or str(x).find('E') != -1)  \n",
    "                                        else ('circulatory' if int(float(x)) in range(390, 460) or int(float(x)) == 785\n",
    "                                        else     ('respiratory' if int(float(x)) in range(460, 520) or int(float(x)) == 786\n",
    "                                        else     ('digestive'   if int(float(x)) in range(520, 580) or int(float(x)) == 787\n",
    "                                        else     ('diabetes'    if int(float(x)) == 250\n",
    "                                        else     ('injury'      if int(float(x)) in range(800, 1000)\n",
    "                                        else ('musculoskeletal' if int(float(x)) in range(710, 740)\n",
    "                                        else ('genitourinary'   if int(float(x)) in range(580, 630) or int(float(x)) == 788\n",
    "                                        else ('neoplasms'       if int(float(x)) in range(140, 240)\n",
    "                                        else ('pregnecy'        if int(float(x)) in range(630, 680)\n",
    "                                        else 'other'))))))))))"
   ]
  },
  {
   "cell_type": "code",
   "execution_count": 26,
   "id": "23d759b9-2448-45e8-84b4-af2f82dec134",
   "metadata": {},
   "outputs": [],
   "source": [
    "# Apply LabelEncoder to transform categorical columns to numeric in both original and copied DataFrames\n",
    "Transformer=LabelEncoder()\n",
    "for col in df.columns:\n",
    "    Transformer.fit(df[col]) \n",
    "    df[col]=Transformer.fit_transform(df[col])"
   ]
  },
  {
   "cell_type": "code",
   "execution_count": 27,
   "id": "153d7403-20d4-4735-8dac-9a39366949ca",
   "metadata": {},
   "outputs": [],
   "source": [
    "# Apply LabelEncoder to specific columns in the copied DataFrame\n",
    "columns=['race','gender','diag_1','diag_2','diag_3']\n",
    "Transformer=LabelEncoder()\n",
    "for col in columns:\n",
    "    Transformer.fit(data[col]) \n",
    "    data[col]=Transformer.fit_transform(data[col])"
   ]
  },
  {
   "cell_type": "code",
   "execution_count": 28,
   "id": "11f4ff54-2ded-4bb4-87e1-cca57739c0cf",
   "metadata": {},
   "outputs": [
    {
     "data": {
      "text/html": [
       "<div>\n",
       "<style scoped>\n",
       "    .dataframe tbody tr th:only-of-type {\n",
       "        vertical-align: middle;\n",
       "    }\n",
       "\n",
       "    .dataframe tbody tr th {\n",
       "        vertical-align: top;\n",
       "    }\n",
       "\n",
       "    .dataframe thead th {\n",
       "        text-align: right;\n",
       "    }\n",
       "</style>\n",
       "<table border=\"1\" class=\"dataframe\">\n",
       "  <thead>\n",
       "    <tr style=\"text-align: right;\">\n",
       "      <th></th>\n",
       "      <th>race</th>\n",
       "      <th>gender</th>\n",
       "      <th>age</th>\n",
       "      <th>admission_type_id</th>\n",
       "      <th>discharge_disposition_id</th>\n",
       "      <th>admission_source_id</th>\n",
       "      <th>time_in_hospital</th>\n",
       "      <th>num_lab_procedures</th>\n",
       "      <th>num_procedures</th>\n",
       "      <th>num_medications</th>\n",
       "      <th>...</th>\n",
       "      <th>acarbose</th>\n",
       "      <th>miglitol</th>\n",
       "      <th>tolazamide</th>\n",
       "      <th>insulin</th>\n",
       "      <th>glyburide-metformin</th>\n",
       "      <th>glipizide-metformin</th>\n",
       "      <th>metformin-rosiglitazone</th>\n",
       "      <th>change</th>\n",
       "      <th>diabetesMed</th>\n",
       "      <th>readmitted</th>\n",
       "    </tr>\n",
       "  </thead>\n",
       "  <tbody>\n",
       "  </tbody>\n",
       "</table>\n",
       "<p>0 rows × 39 columns</p>\n",
       "</div>"
      ],
      "text/plain": [
       "Empty DataFrame\n",
       "Columns: [race, gender, age, admission_type_id, discharge_disposition_id, admission_source_id, time_in_hospital, num_lab_procedures, num_procedures, num_medications, number_outpatient, number_emergency, number_inpatient, diag_1, diag_2, diag_3, number_diagnoses, max_glu_serum, A1Cresult, metformin, repaglinide, nateglinide, chlorpropamide, glimepiride, glipizide, glyburide, tolbutamide, pioglitazone, rosiglitazone, acarbose, miglitol, tolazamide, insulin, glyburide-metformin, glipizide-metformin, metformin-rosiglitazone, change, diabetesMed, readmitted]\n",
       "Index: []\n",
       "\n",
       "[0 rows x 39 columns]"
      ]
     },
     "execution_count": 28,
     "metadata": {},
     "output_type": "execute_result"
    }
   ],
   "source": [
    "# Check for non-numeric entries in the DataFrame\n",
    "data[~data.applymap(np.isreal).all(1)]"
   ]
  },
  {
   "cell_type": "code",
   "execution_count": 29,
   "id": "cc432071-fda4-486c-a996-cbd730391495",
   "metadata": {},
   "outputs": [
    {
     "data": {
      "text/html": [
       "<div>\n",
       "<style scoped>\n",
       "    .dataframe tbody tr th:only-of-type {\n",
       "        vertical-align: middle;\n",
       "    }\n",
       "\n",
       "    .dataframe tbody tr th {\n",
       "        vertical-align: top;\n",
       "    }\n",
       "\n",
       "    .dataframe thead th {\n",
       "        text-align: right;\n",
       "    }\n",
       "</style>\n",
       "<table border=\"1\" class=\"dataframe\">\n",
       "  <thead>\n",
       "    <tr style=\"text-align: right;\">\n",
       "      <th></th>\n",
       "      <th>race</th>\n",
       "      <th>gender</th>\n",
       "      <th>age</th>\n",
       "      <th>admission_type_id</th>\n",
       "      <th>discharge_disposition_id</th>\n",
       "      <th>admission_source_id</th>\n",
       "      <th>time_in_hospital</th>\n",
       "      <th>num_lab_procedures</th>\n",
       "      <th>num_procedures</th>\n",
       "      <th>num_medications</th>\n",
       "      <th>...</th>\n",
       "      <th>acarbose</th>\n",
       "      <th>miglitol</th>\n",
       "      <th>tolazamide</th>\n",
       "      <th>insulin</th>\n",
       "      <th>glyburide-metformin</th>\n",
       "      <th>glipizide-metformin</th>\n",
       "      <th>metformin-rosiglitazone</th>\n",
       "      <th>change</th>\n",
       "      <th>diabetesMed</th>\n",
       "      <th>readmitted</th>\n",
       "    </tr>\n",
       "  </thead>\n",
       "  <tbody>\n",
       "  </tbody>\n",
       "</table>\n",
       "<p>0 rows × 39 columns</p>\n",
       "</div>"
      ],
      "text/plain": [
       "Empty DataFrame\n",
       "Columns: [race, gender, age, admission_type_id, discharge_disposition_id, admission_source_id, time_in_hospital, num_lab_procedures, num_procedures, num_medications, number_outpatient, number_emergency, number_inpatient, diag_1, diag_2, diag_3, number_diagnoses, max_glu_serum, A1Cresult, metformin, repaglinide, nateglinide, chlorpropamide, glimepiride, glipizide, glyburide, tolbutamide, pioglitazone, rosiglitazone, acarbose, miglitol, tolazamide, insulin, glyburide-metformin, glipizide-metformin, metformin-rosiglitazone, change, diabetesMed, readmitted]\n",
       "Index: []\n",
       "\n",
       "[0 rows x 39 columns]"
      ]
     },
     "execution_count": 29,
     "metadata": {},
     "output_type": "execute_result"
    }
   ],
   "source": [
    "# Check for non-numeric entries in the DataFrame and display rows with non-numeric values\n",
    "df[~df.applymap(np.isreal).all(1)]"
   ]
  },
  {
   "cell_type": "code",
   "execution_count": 30,
   "id": "d760815a-99cb-471c-ac05-df593fdf87ca",
   "metadata": {},
   "outputs": [
    {
     "data": {
      "text/plain": [
       "race                        int32\n",
       "gender                      int32\n",
       "age                         int64\n",
       "admission_type_id           int64\n",
       "discharge_disposition_id    int64\n",
       "admission_source_id         int64\n",
       "time_in_hospital            int64\n",
       "num_lab_procedures          int64\n",
       "num_procedures              int64\n",
       "num_medications             int64\n",
       "number_outpatient           int64\n",
       "number_emergency            int64\n",
       "number_inpatient            int64\n",
       "diag_1                      int32\n",
       "diag_2                      int32\n",
       "diag_3                      int32\n",
       "number_diagnoses            int64\n",
       "max_glu_serum               int64\n",
       "A1Cresult                   int64\n",
       "metformin                   int64\n",
       "repaglinide                 int64\n",
       "nateglinide                 int64\n",
       "chlorpropamide              int64\n",
       "glimepiride                 int64\n",
       "glipizide                   int64\n",
       "glyburide                   int64\n",
       "tolbutamide                 int64\n",
       "pioglitazone                int64\n",
       "rosiglitazone               int64\n",
       "acarbose                    int64\n",
       "miglitol                    int64\n",
       "tolazamide                  int64\n",
       "insulin                     int64\n",
       "glyburide-metformin         int64\n",
       "glipizide-metformin         int64\n",
       "metformin-rosiglitazone     int64\n",
       "change                      int64\n",
       "diabetesMed                 int64\n",
       "readmitted                  int64\n",
       "dtype: object"
      ]
     },
     "execution_count": 30,
     "metadata": {},
     "output_type": "execute_result"
    }
   ],
   "source": [
    "# Display data types of each column in the DataFrame\n",
    "data.dtypes"
   ]
  },
  {
   "cell_type": "code",
   "execution_count": 4,
   "id": "0bface3d-7216-4153-a81d-4c0ead1789ba",
   "metadata": {},
   "outputs": [
    {
     "ename": "NameError",
     "evalue": "name 'plt' is not defined",
     "output_type": "error",
     "traceback": [
      "\u001b[1;31m---------------------------------------------------------------------------\u001b[0m",
      "\u001b[1;31mNameError\u001b[0m                                 Traceback (most recent call last)",
      "\u001b[1;32m~\\AppData\\Local\\Temp\\ipykernel_8312\\3629611527.py\u001b[0m in \u001b[0;36m<module>\u001b[1;34m\u001b[0m\n\u001b[1;32m----> 1\u001b[1;33m \u001b[0mplt\u001b[0m\u001b[1;33m.\u001b[0m\u001b[0mfigure\u001b[0m\u001b[1;33m(\u001b[0m\u001b[0mfigsize\u001b[0m\u001b[1;33m=\u001b[0m\u001b[1;33m(\u001b[0m\u001b[1;36m16\u001b[0m\u001b[1;33m,\u001b[0m\u001b[1;36m8\u001b[0m\u001b[1;33m)\u001b[0m\u001b[1;33m)\u001b[0m\u001b[1;33m\u001b[0m\u001b[1;33m\u001b[0m\u001b[0m\n\u001b[0m\u001b[0;32m      2\u001b[0m \u001b[0mcorr_matrix\u001b[0m \u001b[1;33m=\u001b[0m \u001b[0mdf\u001b[0m\u001b[1;33m.\u001b[0m\u001b[0mcorr\u001b[0m\u001b[1;33m(\u001b[0m\u001b[1;33m)\u001b[0m\u001b[1;33m\u001b[0m\u001b[1;33m\u001b[0m\u001b[0m\n\u001b[0;32m      3\u001b[0m \u001b[0msns\u001b[0m\u001b[1;33m.\u001b[0m\u001b[0mheatmap\u001b[0m\u001b[1;33m(\u001b[0m\u001b[0mcorr_matrix\u001b[0m\u001b[1;33m)\u001b[0m\u001b[1;33m\u001b[0m\u001b[1;33m\u001b[0m\u001b[0m\n\u001b[0;32m      4\u001b[0m \u001b[0mplt\u001b[0m\u001b[1;33m.\u001b[0m\u001b[0mshow\u001b[0m\u001b[1;33m(\u001b[0m\u001b[1;33m)\u001b[0m\u001b[1;33m\u001b[0m\u001b[1;33m\u001b[0m\u001b[0m\n",
      "\u001b[1;31mNameError\u001b[0m: name 'plt' is not defined"
     ]
    }
   ],
   "source": [
    "# Visualize the correlation matrix using a heatmap\n",
    "plt.figure(figsize=(16,8))\n",
    "corr_matrix = df.corr()\n",
    "sns.heatmap(corr_matrix)\n",
    "plt.show()"
   ]
  },
  {
   "cell_type": "code",
   "execution_count": 32,
   "id": "339761e0-7fc5-4de0-9288-12ccb87c1e65",
   "metadata": {},
   "outputs": [
    {
     "data": {
      "image/png": "[encoded data removed]",
      "text/plain": [
       "<Figure size 2000x600 with 1 Axes>"
      ]
     },
     "metadata": {},
     "output_type": "display_data"
    }
   ],
   "source": [
    "# Plot a line chart of the count of occurrences for each 'num_medications' value\n",
    "number_medication=pd.DataFrame(df[\"num_medications\"]).groupby(\"num_medications\")[\"num_medications\"].count()\n",
    "number_medication.plot(kind='line',figsize= (20,6))\n",
    "plt.show()"
   ]
  },
  {
   "cell_type": "code",
   "execution_count": 33,
   "id": "90d4c98f-afa2-4e83-a6c6-1a842af2ecd6",
   "metadata": {},
   "outputs": [
    {
     "data": {
      "image/png": "[encoded data removed]",
      "text/plain": [
       "<Figure size 1500x1000 with 1 Axes>"
      ]
     },
     "metadata": {},
     "output_type": "display_data"
    }
   ],
   "source": [
    "# Plot a pie chart of the count of occurrences for each 'time_in_hospital' value\n",
    "time_in_hospital=pd.DataFrame(df[\"time_in_hospital\"]).groupby(\"time_in_hospital\")[\"time_in_hospital\"].count()\n",
    "time_in_hospital.plot(kind='pie', subplots=True, shadow = False,autopct='%1.0f%%',startangle=90,figsize=(15,10))\n",
    "plt.show()"
   ]
  },
  {
   "cell_type": "code",
   "execution_count": 34,
   "id": "bfe28c2b-9570-4426-ad00-5a8485ecf59d",
   "metadata": {},
   "outputs": [
    {
     "data": {
      "image/png": "[encoded data removed]",
      "text/plain": [
       "<Figure size 1500x600 with 1 Axes>"
      ]
     },
     "metadata": {},
     "output_type": "display_data"
    }
   ],
   "source": [
    "# Plot a bar chart showing the average 'time_in_hospital' for each 'num_medications' value\n",
    "medication_vs_time=pd.DataFrame(df[\"num_medications\"])\n",
    "medication_vs_time.insert(1,\"time_in_hospital\",df[\"time_in_hospital\"])\n",
    "medication_vs_time=medication_vs_time.groupby(\"num_medications\").mean()\n",
    "medication_vs_time[\"time_in_hospital\"].plot(kind='bar',cmap='Dark2',figsize= (15,6))\n",
    "plt.show()"
   ]
  },
  {
   "cell_type": "code",
   "execution_count": 35,
   "id": "b9caf81e-22ee-4e49-a340-c0b4ee3ba5f6",
   "metadata": {},
   "outputs": [
    {
     "data": {
      "image/png": "[encoded data removed]",
      "text/plain": [
       "<Figure size 2000x600 with 1 Axes>"
      ]
     },
     "metadata": {},
     "output_type": "display_data"
    }
   ],
   "source": [
    "# Plot a line chart showing the count of occurrences for each 'age' value in the 'data' DataFrame\n",
    "data.groupby(\"age\")[\"age\"].count().plot(kind='line',figsize= (20,6))\n",
    "plt.show()"
   ]
  },
  {
   "cell_type": "code",
   "execution_count": null,
   "id": "be3e4677-1dec-4ffa-88ea-330c96111251",
   "metadata": {},
   "outputs": [],
   "source": []
  }
 ],
 "metadata": {
  "kernelspec": {
   "display_name": "Python 3 (ipykernel)",
   "language": "python",
   "name": "python3"
  },
  "language_info": {
   "codemirror_mode": {
    "name": "ipython",
    "version": 3
   },
   "file_extension": ".py",
   "mimetype": "text/x-python",
   "name": "python",
   "nbconvert_exporter": "python",
   "pygments_lexer": "ipython3",
   "version": "3.9.13"
  }
 },
 "nbformat": 4,
 "nbformat_minor": 5
}
